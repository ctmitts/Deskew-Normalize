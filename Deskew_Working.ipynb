{
 "cells": [
  {
   "cell_type": "code",
   "execution_count": 1,
   "metadata": {
    "collapsed": true
   },
   "outputs": [],
   "source": [
    "from sklearn.datasets import make_classification\n",
    "import pandas as pd\n",
    "import numpy as np\n",
    "from scipy.stats import skew\n",
    "\n",
    "from Deskew import Deskew"
   ]
  },
  {
   "cell_type": "code",
   "execution_count": 2,
   "metadata": {
    "collapsed": true
   },
   "outputs": [],
   "source": [
    "X, y = make_classification(n_samples = 1000, n_features=20, n_redundant=3, n_informative=2,\n",
    "                             n_clusters_per_class=1, n_classes=4, random_state=42,class_sep = .5)"
   ]
  },
  {
   "cell_type": "code",
   "execution_count": 3,
   "metadata": {},
   "outputs": [
    {
     "data": {
      "text/plain": [
       "0    -0.116937\n",
       "1    -0.121424\n",
       "2    -0.093426\n",
       "3     0.038542\n",
       "4     0.032133\n",
       "5     0.127824\n",
       "6    -0.049152\n",
       "7     0.024332\n",
       "8    -0.027573\n",
       "9    -0.006344\n",
       "10   -0.095090\n",
       "11    0.035210\n",
       "12    0.078503\n",
       "13    0.742794\n",
       "14   -0.012258\n",
       "15    0.071246\n",
       "16    0.064134\n",
       "17    0.010869\n",
       "18    0.768856\n",
       "19    0.221712\n",
       "dtype: float64"
      ]
     },
     "execution_count": 3,
     "metadata": {},
     "output_type": "execute_result"
    }
   ],
   "source": [
    "X_df = pd.DataFrame(X ) ## X_minMax_poly\n",
    "X_df.apply( skew)"
   ]
  },
  {
   "cell_type": "code",
   "execution_count": 4,
   "metadata": {},
   "outputs": [],
   "source": [
    "ds = Deskew()"
   ]
  },
  {
   "cell_type": "code",
   "execution_count": 5,
   "metadata": {},
   "outputs": [],
   "source": [
    "X_deskew = ds.fit_transform(X)"
   ]
  },
  {
   "cell_type": "code",
   "execution_count": 6,
   "metadata": {},
   "outputs": [
    {
     "data": {
      "text/plain": [
       "0    -0.009052\n",
       "1     0.001485\n",
       "2     0.008573\n",
       "3    -0.003132\n",
       "4     0.011937\n",
       "5     0.020596\n",
       "6    -0.000421\n",
       "7     0.011436\n",
       "8    -0.010554\n",
       "9     0.011767\n",
       "10    0.045871\n",
       "11    0.000018\n",
       "12    0.015154\n",
       "13   -0.004270\n",
       "14   -0.007584\n",
       "15   -0.006947\n",
       "16    0.005999\n",
       "17   -0.012645\n",
       "18   -0.004737\n",
       "19    0.025806\n",
       "dtype: float64"
      ]
     },
     "execution_count": 6,
     "metadata": {},
     "output_type": "execute_result"
    }
   ],
   "source": [
    "X_deskew_df = pd.DataFrame(X_deskew ) ## X_minMax_poly\n",
    "X_deskew_df.apply( skew)"
   ]
  },
  {
   "cell_type": "code",
   "execution_count": 7,
   "metadata": {},
   "outputs": [],
   "source": [
    "X_original = ds.inverse_transform( X_deskew)"
   ]
  },
  {
   "cell_type": "code",
   "execution_count": 8,
   "metadata": {},
   "outputs": [
    {
     "data": {
      "text/plain": [
       "0    -0.116937\n",
       "1    -0.121424\n",
       "2    -0.093426\n",
       "3     0.038542\n",
       "4     0.032133\n",
       "5     0.127824\n",
       "6    -0.049152\n",
       "7     0.024332\n",
       "8    -0.027573\n",
       "9    -0.006344\n",
       "10   -0.095090\n",
       "11    0.035210\n",
       "12    0.078503\n",
       "13    0.742794\n",
       "14   -0.012258\n",
       "15    0.071246\n",
       "16    0.064134\n",
       "17    0.010869\n",
       "18    0.768856\n",
       "19    0.221712\n",
       "dtype: float64"
      ]
     },
     "execution_count": 8,
     "metadata": {},
     "output_type": "execute_result"
    }
   ],
   "source": [
    "X_original_df = pd.DataFrame(X_original ) ## X_minMax_poly\n",
    "X_original_df.apply( skew)"
   ]
  },
  {
   "cell_type": "code",
   "execution_count": null,
   "metadata": {
    "collapsed": true
   },
   "outputs": [],
   "source": []
  },
  {
   "cell_type": "code",
   "execution_count": null,
   "metadata": {
    "collapsed": true
   },
   "outputs": [],
   "source": []
  },
  {
   "cell_type": "code",
   "execution_count": null,
   "metadata": {
    "collapsed": true
   },
   "outputs": [],
   "source": []
  },
  {
   "cell_type": "code",
   "execution_count": null,
   "metadata": {
    "collapsed": true
   },
   "outputs": [],
   "source": []
  },
  {
   "cell_type": "code",
   "execution_count": null,
   "metadata": {
    "collapsed": true
   },
   "outputs": [],
   "source": []
  },
  {
   "cell_type": "code",
   "execution_count": null,
   "metadata": {
    "collapsed": true
   },
   "outputs": [],
   "source": []
  },
  {
   "cell_type": "code",
   "execution_count": null,
   "metadata": {
    "collapsed": true
   },
   "outputs": [],
   "source": []
  },
  {
   "cell_type": "code",
   "execution_count": null,
   "metadata": {
    "collapsed": true
   },
   "outputs": [],
   "source": []
  },
  {
   "cell_type": "code",
   "execution_count": null,
   "metadata": {
    "collapsed": true
   },
   "outputs": [],
   "source": []
  },
  {
   "cell_type": "code",
   "execution_count": null,
   "metadata": {
    "collapsed": true
   },
   "outputs": [],
   "source": []
  }
 ],
 "metadata": {
  "kernelspec": {
   "display_name": "Python 3",
   "language": "python",
   "name": "python3"
  },
  "language_info": {
   "codemirror_mode": {
    "name": "ipython",
    "version": 3
   },
   "file_extension": ".py",
   "mimetype": "text/x-python",
   "name": "python",
   "nbconvert_exporter": "python",
   "pygments_lexer": "ipython3",
   "version": "3.4.0"
  }
 },
 "nbformat": 4,
 "nbformat_minor": 2
}
